{
 "cells": [
  {
   "cell_type": "code",
   "execution_count": 1,
   "metadata": {},
   "outputs": [
    {
     "name": "stderr",
     "output_type": "stream",
     "text": [
      "Using TensorFlow backend.\n"
     ]
    }
   ],
   "source": [
    "import numpy as np\n",
    "import pandas as pd\n",
    "import os\n",
    "import random\n",
    "import tensorflow as tf\n",
    "from tensorflow.keras.optimizers import RMSprop, Adam\n",
    "from tensorflow.keras.preprocessing.image import ImageDataGenerator\n",
    "import keras as K\n",
    "from tensorflow.keras import Sequential \n",
    "\n",
    "from tensorflow.keras.layers import Dense, Dropout, Flatten, BatchNormalization, GlobalAveragePooling2D, Conv2D, Activation, MaxPooling2D\n",
    "from tensorflow.keras import activations\n",
    "from keras.callbacks import LearningRateScheduler\n",
    "\n",
    "import cv2\n",
    "import matplotlib.pyplot as plt\n",
    "from keras.preprocessing.image import load_img\n",
    "from keras.preprocessing import image\n",
    "\n",
    "%matplotlib inline"
   ]
  },
  {
   "cell_type": "code",
   "execution_count": 2,
   "metadata": {},
   "outputs": [
    {
     "name": "stdout",
     "output_type": "stream",
     "text": [
      "Found 22136 images belonging to 10 classes.\n"
     ]
    }
   ],
   "source": [
    "train_dir = 'Train/'\n",
    "train_datagen = ImageDataGenerator(rescale=1./255,\n",
    "    horizontal_flip=True)\n",
    "train_generator = train_datagen.flow_from_directory(train_dir,\n",
    "                                                    batch_size=16,\n",
    "                                                    class_mode='categorical',\n",
    "                                                    target_size=(64, 64),\n",
    "                                                    subset = 'training',\n",
    "                                                    shuffle = True)\n",
    "\n"
   ]
  },
  {
   "cell_type": "code",
   "execution_count": 3,
   "metadata": {},
   "outputs": [
    {
     "name": "stdout",
     "output_type": "stream",
     "text": [
      "Found 4864 images belonging to 10 classes.\n"
     ]
    }
   ],
   "source": [
    "test_dir = 'Test/'\n",
    "test_datagen = ImageDataGenerator(rescale=1./255\n",
    "                                  )\n",
    "test_generator = test_datagen.flow_from_directory(test_dir,\n",
    "                                                    batch_size=16,\n",
    "                                                    class_mode='categorical',\n",
    "                                                    target_size=(64, 64),\n",
    "                                                    shuffle = True)"
   ]
  },
  {
   "cell_type": "code",
   "execution_count": 4,
   "metadata": {},
   "outputs": [],
   "source": [
    "'''model = Sequential() \n",
    "model.add(Conv2D(28, (3, 3), padding='same',input_shape=( 64, 64, 3))) \n",
    "model.add(Activation('relu')) \n",
    "model.add(Conv2D(28, (3, 3), padding='same')) \n",
    "model.add(Activation('relu')) \n",
    "model.add(MaxPooling2D((2,2), padding='same')) \n",
    "model.add(Conv2D(56, (3, 3),padding='same')) \n",
    "model.add(Activation('relu')) \n",
    "model.add(Conv2D(56, (3, 3), padding='same')) \n",
    "model.add(Activation('relu')) \n",
    "model.add(MaxPooling2D((2,2), padding='same')) \n",
    "model.add(Conv2D(112, (3, 3), padding='same')) \n",
    "model.add(Activation('relu')) \n",
    "model.add(Conv2D(112, (3, 3), padding='same')) \n",
    "model.add(Activation('relu')) \n",
    "model.add(MaxPooling2D((2,2), padding='same')) \n",
    "model.add(Flatten()) \n",
    "model.add(Dense(784)) \n",
    "model.add(Activation('relu')) \n",
    "model.add(Dropout(0.5)) \n",
    "model.add(Dense(10))\n",
    "model.add(Activation('softmax'))'''\n",
    "model= tf.keras.models.load_model('Landmark Detection.h5')"
   ]
  },
  {
   "cell_type": "code",
   "execution_count": 5,
   "metadata": {},
   "outputs": [
    {
     "name": "stdout",
     "output_type": "stream",
     "text": [
      "Model: \"sequential\"\n",
      "_________________________________________________________________\n",
      "Layer (type)                 Output Shape              Param #   \n",
      "=================================================================\n",
      "conv2d (Conv2D)              (None, 64, 64, 28)        784       \n",
      "_________________________________________________________________\n",
      "activation (Activation)      (None, 64, 64, 28)        0         \n",
      "_________________________________________________________________\n",
      "conv2d_1 (Conv2D)            (None, 64, 64, 28)        7084      \n",
      "_________________________________________________________________\n",
      "activation_1 (Activation)    (None, 64, 64, 28)        0         \n",
      "_________________________________________________________________\n",
      "max_pooling2d (MaxPooling2D) (None, 32, 32, 28)        0         \n",
      "_________________________________________________________________\n",
      "conv2d_2 (Conv2D)            (None, 32, 32, 56)        14168     \n",
      "_________________________________________________________________\n",
      "activation_2 (Activation)    (None, 32, 32, 56)        0         \n",
      "_________________________________________________________________\n",
      "conv2d_3 (Conv2D)            (None, 32, 32, 56)        28280     \n",
      "_________________________________________________________________\n",
      "activation_3 (Activation)    (None, 32, 32, 56)        0         \n",
      "_________________________________________________________________\n",
      "max_pooling2d_1 (MaxPooling2 (None, 16, 16, 56)        0         \n",
      "_________________________________________________________________\n",
      "conv2d_4 (Conv2D)            (None, 16, 16, 112)       56560     \n",
      "_________________________________________________________________\n",
      "activation_4 (Activation)    (None, 16, 16, 112)       0         \n",
      "_________________________________________________________________\n",
      "conv2d_5 (Conv2D)            (None, 16, 16, 112)       113008    \n",
      "_________________________________________________________________\n",
      "activation_5 (Activation)    (None, 16, 16, 112)       0         \n",
      "_________________________________________________________________\n",
      "max_pooling2d_2 (MaxPooling2 (None, 8, 8, 112)         0         \n",
      "_________________________________________________________________\n",
      "flatten (Flatten)            (None, 7168)              0         \n",
      "_________________________________________________________________\n",
      "dense (Dense)                (None, 784)               5620496   \n",
      "_________________________________________________________________\n",
      "activation_6 (Activation)    (None, 784)               0         \n",
      "_________________________________________________________________\n",
      "dropout (Dropout)            (None, 784)               0         \n",
      "_________________________________________________________________\n",
      "dense_1 (Dense)              (None, 10)                7850      \n",
      "_________________________________________________________________\n",
      "activation_7 (Activation)    (None, 10)                0         \n",
      "=================================================================\n",
      "Total params: 5,848,230\n",
      "Trainable params: 5,848,230\n",
      "Non-trainable params: 0\n",
      "_________________________________________________________________\n"
     ]
    }
   ],
   "source": [
    "model.compile(loss='categorical_crossentropy', optimizer = 'adam', metrics=['acc'])\n",
    "model.summary()"
   ]
  },
  {
   "cell_type": "code",
   "execution_count": 6,
   "metadata": {},
   "outputs": [],
   "source": [
    "my_callbacks = [\n",
    "  tf.keras.callbacks.ReduceLROnPlateau(\n",
    "    monitor='acc', factor=0.75, patience=2, verbose=True,\n",
    "    mode='auto', min_delta=0.0001, cooldown=0, min_lr=0 \n",
    "  ), tf.keras.callbacks.ModelCheckpoint(\n",
    "    'Landmark Detection.h5', monitor='val_acc', verbose=1, save_best_only=True,\n",
    "    save_weights_only=False, mode='max', save_freq='epoch'\n",
    ")]"
   ]
  },
  {
   "cell_type": "code",
   "execution_count": 7,
   "metadata": {},
   "outputs": [
    {
     "name": "stdout",
     "output_type": "stream",
     "text": [
      "Epoch 1/10\n",
      "2000/2000 [==============================] - ETA: 0s - loss: 0.1376 - acc: 0.9628\n",
      "Epoch 00001: val_acc improved from -inf to 0.89375, saving model to Landmark Detection.h5\n",
      "2000/2000 [==============================] - 561s 280ms/step - loss: 0.1376 - acc: 0.9628 - val_loss: 0.6344 - val_acc: 0.8938 - lr: 0.0010\n",
      "Epoch 2/10\n",
      "2000/2000 [==============================] - ETA: 0s - loss: 0.1392 - acc: 0.9628\n",
      "Epoch 00002: val_acc improved from 0.89375 to 0.89938, saving model to Landmark Detection.h5\n",
      "2000/2000 [==============================] - 532s 266ms/step - loss: 0.1392 - acc: 0.9628 - val_loss: 0.5261 - val_acc: 0.8994 - lr: 0.0010\n",
      "Epoch 3/10\n",
      "2000/2000 [==============================] - ETA: 0s - loss: 0.1393 - acc: 0.9624\n",
      "Epoch 00003: ReduceLROnPlateau reducing learning rate to 0.0007500000356230885.\n",
      "\n",
      "Epoch 00003: val_acc improved from 0.89938 to 0.90000, saving model to Landmark Detection.h5\n",
      "2000/2000 [==============================] - 531s 265ms/step - loss: 0.1393 - acc: 0.9624 - val_loss: 0.5712 - val_acc: 0.9000 - lr: 0.0010\n",
      "Epoch 4/10\n",
      "2000/2000 [==============================] - ETA: 0s - loss: 0.0876 - acc: 0.9744\n",
      "Epoch 00004: val_acc did not improve from 0.90000\n",
      "2000/2000 [==============================] - 534s 267ms/step - loss: 0.0876 - acc: 0.9744 - val_loss: 0.5599 - val_acc: 0.8988 - lr: 7.5000e-04\n",
      "Epoch 5/10\n",
      "2000/2000 [==============================] - ETA: 0s - loss: 0.0746 - acc: 0.9783\n",
      "Epoch 00005: val_acc improved from 0.90000 to 0.90062, saving model to Landmark Detection.h5\n",
      "2000/2000 [==============================] - 544s 272ms/step - loss: 0.0746 - acc: 0.9783 - val_loss: 1.0565 - val_acc: 0.9006 - lr: 7.5000e-04\n",
      "Epoch 6/10\n",
      "2000/2000 [==============================] - ETA: 0s - loss: 0.0872 - acc: 0.9757\n",
      "Epoch 00006: val_acc did not improve from 0.90062\n",
      "2000/2000 [==============================] - 539s 269ms/step - loss: 0.0872 - acc: 0.9757 - val_loss: 0.6375 - val_acc: 0.8969 - lr: 7.5000e-04\n",
      "Epoch 7/10\n",
      "2000/2000 [==============================] - ETA: 0s - loss: 0.0934 - acc: 0.9743\n",
      "Epoch 00007: ReduceLROnPlateau reducing learning rate to 0.0005625000048894435.\n",
      "\n",
      "Epoch 00007: val_acc improved from 0.90062 to 0.90938, saving model to Landmark Detection.h5\n",
      "2000/2000 [==============================] - 545s 272ms/step - loss: 0.0934 - acc: 0.9743 - val_loss: 0.6521 - val_acc: 0.9094 - lr: 7.5000e-04\n",
      "Epoch 8/10\n",
      "2000/2000 [==============================] - ETA: 0s - loss: 0.0575 - acc: 0.9842\n",
      "Epoch 00008: val_acc did not improve from 0.90938\n",
      "2000/2000 [==============================] - 545s 273ms/step - loss: 0.0575 - acc: 0.9842 - val_loss: 0.7484 - val_acc: 0.8906 - lr: 5.6250e-04\n",
      "Epoch 9/10\n",
      "2000/2000 [==============================] - ETA: 0s - loss: 0.0487 - acc: 0.9866\n",
      "Epoch 00009: val_acc did not improve from 0.90938\n",
      "2000/2000 [==============================] - 450s 225ms/step - loss: 0.0487 - acc: 0.9866 - val_loss: 0.5940 - val_acc: 0.8988 - lr: 5.6250e-04\n",
      "Epoch 10/10\n",
      "2000/2000 [==============================] - ETA: 0s - loss: 0.0447 - acc: 0.9876\n",
      "Epoch 00010: val_acc did not improve from 0.90938\n",
      "2000/2000 [==============================] - 413s 206ms/step - loss: 0.0447 - acc: 0.9876 - val_loss: 0.9561 - val_acc: 0.8881 - lr: 5.6250e-04\n"
     ]
    }
   ],
   "source": [
    "history = model.fit(train_generator,\n",
    "                    epochs=10,\n",
    "                    workers = 8,\n",
    "                    verbose=True,\n",
    "                    steps_per_epoch= 2000,\n",
    "                    validation_data=test_generator,\n",
    "                    validation_steps= 100,\n",
    "                    callbacks = my_callbacks)"
   ]
  },
  {
   "cell_type": "code",
   "execution_count": 8,
   "metadata": {},
   "outputs": [
    {
     "name": "stdout",
     "output_type": "stream",
     "text": [
      "[0.9628344774246216, 0.9627719521522522, 0.9623561501502991, 0.9743685722351074, 0.9783329367637634, 0.9757439494132996, 0.9742996692657471, 0.9841523170471191, 0.9866495728492737, 0.9875906705856323]\n",
      "[0.893750011920929, 0.8993750214576721, 0.8999999761581421, 0.8987500071525574, 0.9006249904632568, 0.8968750238418579, 0.909375011920929, 0.890625, 0.8987500071525574, 0.8881250023841858]\n"
     ]
    },
    {
     "data": {
      "image/png": "[encoded data removed]",
      "text/plain": [
       "<Figure size 576x576 with 2 Axes>"
      ]
     },
     "metadata": {
      "needs_background": "light"
     },
     "output_type": "display_data"
    }
   ],
   "source": [
    "acc = history.history['acc']\n",
    "val_acc = history.history['val_acc']\n",
    "\n",
    "loss = history.history['loss']\n",
    "val_loss = history.history['val_loss']\n",
    "\n",
    "print(acc)\n",
    "print(val_acc)\n",
    "\n",
    "plt.figure(figsize=(8, 8))\n",
    "plt.subplot(2, 1, 1)\n",
    "plt.plot(acc, label='Training Accuracy')\n",
    "plt.plot(val_acc, label='Validation Accuracy')\n",
    "plt.legend(loc='lower right')\n",
    "plt.ylabel('Accuracy')\n",
    "plt.ylim([min(plt.ylim()),1])\n",
    "plt.title('Training and Validation Accuracy')\n",
    "\n",
    "plt.subplot(2, 1, 2)\n",
    "plt.plot(loss, label='Training Loss')\n",
    "plt.plot(val_loss, label='Validation Loss')\n",
    "plt.legend(loc='upper right')\n",
    "plt.ylabel('Cross Entropy')\n",
    "plt.ylim([0,max(plt.ylim())])\n",
    "plt.title('Training and Validation Loss')\n",
    "plt.show()"
   ]
  },
  {
   "cell_type": "code",
   "execution_count": null,
   "metadata": {},
   "outputs": [],
   "source": [
    "#model.save('Landmark Detection.h5')\n",
    "model.save('Landmark Detection')"
   ]
  },
  {
   "cell_type": "code",
   "execution_count": 11,
   "metadata": {},
   "outputs": [
    {
     "name": "stdout",
     "output_type": "stream",
     "text": [
      "AnnualCrop\n",
      "Forest\n",
      "HerbaceousVegetation\n",
      "Highway\n",
      "Industrial\n",
      "Pasture\n",
      "PermanentCrop\n",
      "Residential\n",
      "River\n",
      "SeaLake\n"
     ]
    }
   ],
   "source": [
    "labels = test_generator.class_indices\n",
    "labels = dict((v,k) for k,v in labels.items())\n",
    "for i in range(len(labels)):\n",
    "               print(labels[i])"
   ]
  },
  {
   "cell_type": "code",
   "execution_count": 12,
   "metadata": {},
   "outputs": [],
   "source": [
    "landamarks= ['AnnualCrop', 'Forest', 'HerbaceousVegetation', 'Highway' , 'Industrial', 'Pasture', 'PermanentCrop', 'Residential', 'River', 'SeaLake']"
   ]
  },
  {
   "cell_type": "code",
   "execution_count": 16,
   "metadata": {},
   "outputs": [
    {
     "name": "stdout",
     "output_type": "stream",
     "text": [
      "[[6.39774054e-02 1.88016911e-05 1.27766086e-07 6.70262179e-11\n",
      "  1.17446826e-17 8.43312740e-01 1.56017723e-12 1.86084329e-29\n",
      "  5.90834361e-06 9.26849917e-02]]\n",
      "Pasture\n"
     ]
    },
    {
     "data": {
      "image/png": "[encoded data removed]",
      "text/plain": [
       "<Figure size 432x288 with 1 Axes>"
      ]
     },
     "metadata": {
      "needs_background": "light"
     },
     "output_type": "display_data"
    }
   ],
   "source": [
    "\n",
    "image_path = 'Test/Pasture/Pasture_3.jpg'\n",
    "img = load_img(image_path, target_size = (64, 64))\n",
    "plt.imshow(img)\n",
    "x = image.img_to_array(img)\n",
    "x = np.expand_dims(x, axis=0)\n",
    "x = x/255\n",
    "p = model.predict(x)\n",
    "print(p)\n",
    "i = np.argmax(p,1).squeeze()\n",
    "i = int(i)\n",
    "print(landamarks[i])"
   ]
  },
  {
   "cell_type": "code",
   "execution_count": null,
   "metadata": {},
   "outputs": [],
   "source": []
  }
 ],
 "metadata": {
  "kernelspec": {
   "display_name": "Python 3",
   "language": "python",
   "name": "python3"
  },
  "language_info": {
   "codemirror_mode": {
    "name": "ipython",
    "version": 3
   },
   "file_extension": ".py",
   "mimetype": "text/x-python",
   "name": "python",
   "nbconvert_exporter": "python",
   "pygments_lexer": "ipython3",
   "version": "3.7.9"
  }
 },
 "nbformat": 4,
 "nbformat_minor": 4
}
